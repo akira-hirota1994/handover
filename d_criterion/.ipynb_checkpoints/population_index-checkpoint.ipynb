{
 "cells": [
  {
   "cell_type": "code",
   "execution_count": 64,
   "metadata": {},
   "outputs": [
    {
     "name": "stdout",
     "output_type": "stream",
     "text": [
      "observation time is 50748.0 [min]\n",
      "Complete!\n"
     ]
    }
   ],
   "source": [
    "#　sporadic meteorのpopulation index\n",
    "import pandas as pd\n",
    "import matplotlib.pyplot as plt\n",
    "import numpy as np\n",
    "from scipy.optimize import curve_fit\n",
    "from IPython.display import clear_output\n",
    "from matplotlib.backends.backend_pdf import PdfPages\n",
    "\n",
    "df_mu = pd.read_csv(\"../iccd_2018/MU_data_2009-2015.csv\")\n",
    "df_sporadic = pd.read_csv(\"../iccd_2018/MU_data_2009-2015_dropped.csv\")\n",
    "day = df_mu[\"DD\"].values\n",
    "hour = df_mu[\"hh\"].values\n",
    "minute = df_mu[\"mm\"].values\n",
    "time = day*24.*60. + hour*60. + minute\n",
    "\n",
    "def linear_fit(x, a, b):\n",
    "    return 10**(ax + b)\n",
    "\n",
    "### total observation time [min]\n",
    "total_observation_time = []\n",
    "mjd = df_mu[\"MJD\"].values\n",
    "dif_mjd = mjd\n",
    "for i in range(len(mjd)-1):\n",
    "    dif_mjd[i] = mjd[i+1] - mjd[i]\n",
    "separate_index = np.where(dif_mjd > 0.02) #30minくらい\n",
    "separate_index = list(separate_index)\n",
    "separate_index = np.insert(separate_index, 0 , 0)\n",
    "\n",
    "for j in range(len(separate_index)-1):\n",
    "    observation_time = time[separate_index[j+1]] - time[separate_index[j]+1]\n",
    "    total_observation_time = np.hstack((total_observation_time, observation_time))\n",
    "\n",
    "total_observation_time = np.sum(total_observation_time)\n",
    "print \"observation time is\",total_observation_time, \"[min]\"\n",
    "print \"Complete!\""
   ]
  },
  {
   "cell_type": "code",
   "execution_count": null,
   "metadata": {},
   "outputs": [],
   "source": []
  },
  {
   "cell_type": "code",
   "execution_count": null,
   "metadata": {},
   "outputs": [],
   "source": [
    "#上の続き\n",
    "#一回保留"
   ]
  },
  {
   "cell_type": "code",
   "execution_count": null,
   "metadata": {},
   "outputs": [],
   "source": []
  },
  {
   "cell_type": "code",
   "execution_count": 1,
   "metadata": {},
   "outputs": [
    {
     "name": "stdout",
     "output_type": "stream",
     "text": [
      "Complete!\n"
     ]
    }
   ],
   "source": [
    "import pandas as pd\n",
    "import matplotlib.pyplot as plt\n",
    "import numpy as np\n",
    "from scipy.optimize import curve_fit\n",
    "from IPython.display import clear_output\n",
    "from matplotlib.backends.backend_pdf import PdfPages\n",
    "\n",
    "#df_geminid = pd.read_csv(\"geminid(0.1).csv\")\n",
    "#mag_geminid = df_geminid[\"mag_calculated\"]\n",
    "df_mu = pd.read_csv(\"../iccd_2018/MU_data_2009-2015.csv\")\n",
    "\n",
    "def linear_fit(x, a, b):\n",
    "    return 10**(ax + b)\n",
    "\n",
    "# Reference this value from IMO\n",
    "ra_geminid = 15.*7 + 28./60.\n",
    "dec_geminid = 32.2\n",
    "#  Location of MU radar\n",
    "longitude_deg = 136. + 6./60. + 32./3600.\n",
    "latitude_deg = 34. + 51./60. + 8./3600.\n",
    "##########################################################\n",
    "floor_1 = 365.25*(df_geminid[\"YYYY\"] + 4716.0)\n",
    "floor_2 = (30.6001*(df_geminid[\"MM\"] + 1.0) + 2.0)\n",
    "floor_3 = df_geminid[\"YYYY\"]/100.0\n",
    "floor_4 = (df_geminid[\"YYYY\"]/100.0)/4\n",
    "floor_1 = floor_1.astype(int)\n",
    "floor_2 = floor_2.astype(int)\n",
    "floor_3 = floor_3.astype(int)\n",
    "floor_4 = floor_4.astype(int)\n",
    "JD = floor_1 + floor_2 - floor_3 + floor_4 +df_geminid[\"DD\"] - 1524.5 + \\\n",
    "            (df_geminid[\"hh\"] + df_geminid[\"mm\"]/60 + df_geminid[\"ssssssss\"]/3600)/24\n",
    "D = JD - 2451543.5\n",
    "w = 282.9404 + 4.70935e-5*D\n",
    "M = (356.0470 + 0.9856002585*D)%360\n",
    "L = w + M\n",
    "GMST0 = ((L + 180)%360)/15\n",
    "UT_hour = df_geminid[\"hh\"] + df_geminid[\"mm\"]/60 + df_geminid[\"ssssssss\"]/3600\n",
    "SiderealTime = GMST0 + UT_hour + longitude_deg/15\n",
    "\n",
    "HourAngle1 = (SiderealTime*15 - ra_geminid)\n",
    "A1 = np.cos(np.radians(HourAngle1))*np.cos(np.radians(dec_geminid))*np.cos(np.radians(90 - latitude_deg)) - \\\n",
    "    np.sin(np.radians(dec_geminid))*np.sin(np.radians(90 - latitude_deg))\n",
    "B1 = np.sin(np.radians(HourAngle1))*np.cos(np.radians(dec_geminid))\n",
    "C1 = np.cos(np.radians(HourAngle1))*np.cos(np.radians(dec_geminid))*np.sin(np.radians(90 - latitude_deg)) + \\\n",
    "    np.sin(np.radians(dec_geminid))*np.cos(np.radians(90 - latitude_deg))\n",
    "az = (np.arctan(B1/A1)*180/np.pi) + 180\n",
    "el = np.arcsin(C1)*180/np.pi\n",
    "azel = np.vstack((az, el))\n",
    "azel = azel.transpose()\n",
    "columns = [\"radiant_geminid_az\", \"radiant_geminid_el\"]\n",
    "azel = pd.DataFrame(data = azel, columns = columns)\n",
    "df_geminid = pd.concat([df_geminid, azel], axis=1)\n",
    "\n",
    "\n",
    "##########################################################################\n",
    "\"\"\"\n",
    "min_geminid = np.floor(mag_geminid.min())\n",
    "min_geminid = np.floor(min_geminid)\n",
    "max_geminid = np.floor(mag_geminid.max())\n",
    "max_geminid = np.ceil(max_geminid)\n",
    "\n",
    "bins_geminid = np.arange(min_geminid,max_geminid,1)\n",
    "bins_geminid = np.delete(bins_geminid,0)\n",
    "\n",
    "hist_geminid, bins_geminid = np.histogram(mag_geminid,bins=bins_geminid,range=(min_geminid,max_geminid))\n",
    "bins_geminid = np.delete(bins_geminid ,0)\n",
    "lim_geminid = bins_geminid[np.argmax(hist_geminid)]\n",
    "\"\"\"\n",
    "#param, cov = curve_fit(linear_fit, table[:,3], table[:,0])\n",
    "#y_fit = param[0]*linear_x + param[1]\n",
    "#\n",
    "\n",
    "#fig = plt.figure(figsize=(10,10))\n",
    "#plt.scatter(bins_geminid, hist_geminid, c=\"green\")\n",
    "#plt.yscale(\"log\")\n",
    "#plt.ylim(1,)\n",
    "#plt.show()\n",
    "\n",
    "\"\"\"\n",
    "df_main.to_csv(\"simultaneous_event_candidates_table_MU+Tomo-e10.csv\")\n",
    "df_mu.to_csv(\"../../iccd_2018/MU_data_2009-2015.csv\")\n",
    "df_geminid.to_csv(\"../../d_criterion/geminid(0.1).csv\")\n",
    "df_geminid2.to_csv(\"../../d_criterion/geminid(0.2).csv\")\n",
    "\"\"\"\n",
    "print \"Complete!\""
   ]
  },
  {
   "cell_type": "code",
   "execution_count": null,
   "metadata": {},
   "outputs": [],
   "source": []
  }
 ],
 "metadata": {
  "kernelspec": {
   "display_name": "Python 2",
   "language": "python",
   "name": "python2"
  },
  "language_info": {
   "codemirror_mode": {
    "name": "ipython",
    "version": 2
   },
   "file_extension": ".py",
   "mimetype": "text/x-python",
   "name": "python",
   "nbconvert_exporter": "python",
   "pygments_lexer": "ipython2",
   "version": "2.7.10"
  }
 },
 "nbformat": 4,
 "nbformat_minor": 2
}
